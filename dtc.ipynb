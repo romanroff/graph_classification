{
 "cells": [
  {
   "cell_type": "code",
   "execution_count": 1,
   "metadata": {},
   "outputs": [],
   "source": [
    "import pickle\n",
    "import numpy as np\n",
    "import _pickle as cPickle"
   ]
  },
  {
   "cell_type": "code",
   "execution_count": 14,
   "metadata": {},
   "outputs": [],
   "source": [
    "def unPickleFingerPrints(filename):\n",
    "    ''' Load a pickle and return it as a ndarray object '''\n",
    "\n",
    "    f = open(filename, \"rb\")\n",
    "    objs = []\n",
    "    temp = []\n",
    "    temp2 = []\n",
    "    encodings = ['latin1', 'utf-8', 'bytes', 'iso-8859-1']\n",
    "    for enc in encodings:\n",
    "        try:\n",
    "            with open(filename, 'rb') as f:\n",
    "\n",
    "                objs.append(cPickle.load(f, encoding=enc))\n",
    "                for i in objs:\n",
    "                    temp.append(i[2])\n",
    "                    temp2.append(i[0])\n",
    "\n",
    "                # Convert to ndarray\n",
    "                features = np.asarray(temp)\n",
    "                labels = np.asarray(temp2)\n",
    "                print(f\"encoding: {enc}\")\n",
    "                return features, labels\n",
    "\n",
    "        except:\n",
    "            continue\n",
    "    raise ValueError(\"None of the encodings worked\")"
   ]
  },
  {
   "cell_type": "code",
   "execution_count": 30,
   "metadata": {},
   "outputs": [
    {
     "name": "stdout",
     "output_type": "stream",
     "text": [
      "Done. Saved 3979999 bytes.\n"
     ]
    }
   ],
   "source": [
    "import sys\n",
    "dataset = 'SW'\n",
    "original = f'DeepTopologyClassification/Data/{dataset}.pkl'\n",
    "destination = f\"DeepTopologyClassification/Data/{dataset}_new.pkl\"\n",
    "\n",
    "content = ''\n",
    "outsize = 0\n",
    "with open(original, 'rb') as infile:\n",
    "    content = infile.read()\n",
    "with open(destination, 'wb') as output:\n",
    "    for line in content.splitlines():\n",
    "        outsize += len(line) + 1\n",
    "        output.write(line + str.encode('\\n'))\n",
    "\n",
    "print(\"Done. Saved %s bytes.\" % (len(content)-outsize))\n"
   ]
  },
  {
   "cell_type": "code",
   "execution_count": 31,
   "metadata": {},
   "outputs": [
    {
     "name": "stdout",
     "output_type": "stream",
     "text": [
      "encoding: latin1\n"
     ]
    }
   ],
   "source": [
    "features, labels = unPickleFingerPrints(\"DeepTopologyClassification/Data/ANOM_new.pkl\")"
   ]
  },
  {
   "cell_type": "code",
   "execution_count": 38,
   "metadata": {},
   "outputs": [
    {
     "ename": "TypeError",
     "evalue": "'protocol' is an invalid keyword argument for load()",
     "output_type": "error",
     "traceback": [
      "\u001b[31m---------------------------------------------------------------------------\u001b[39m",
      "\u001b[31mTypeError\u001b[39m                                 Traceback (most recent call last)",
      "\u001b[36mCell\u001b[39m\u001b[36m \u001b[39m\u001b[32mIn[38]\u001b[39m\u001b[32m, line 10\u001b[39m\n\u001b[32m      7\u001b[39m     \u001b[38;5;28mprint\u001b[39m(\u001b[33m\"\u001b[39m\u001b[33mСодержимое:\u001b[39m\u001b[33m\"\u001b[39m, data)\n\u001b[32m      8\u001b[39m     \u001b[38;5;28;01mreturn\u001b[39;00m data\n\u001b[32m---> \u001b[39m\u001b[32m10\u001b[39m data = \u001b[43minspect_pickle\u001b[49m\u001b[43m(\u001b[49m\u001b[33;43m\"\u001b[39;49m\u001b[33;43mDeepTopologyClassification/Data/FF.pkl\u001b[39;49m\u001b[33;43m\"\u001b[39;49m\u001b[43m)\u001b[49m\n",
      "\u001b[36mCell\u001b[39m\u001b[36m \u001b[39m\u001b[32mIn[38]\u001b[39m\u001b[32m, line 5\u001b[39m, in \u001b[36minspect_pickle\u001b[39m\u001b[34m(file_path)\u001b[39m\n\u001b[32m      3\u001b[39m \u001b[38;5;28;01mdef\u001b[39;00m\u001b[38;5;250m \u001b[39m\u001b[34minspect_pickle\u001b[39m(file_path):\n\u001b[32m      4\u001b[39m     \u001b[38;5;28;01mwith\u001b[39;00m \u001b[38;5;28mopen\u001b[39m(file_path, \u001b[33m'\u001b[39m\u001b[33mrb\u001b[39m\u001b[33m'\u001b[39m) \u001b[38;5;28;01mas\u001b[39;00m f:\n\u001b[32m----> \u001b[39m\u001b[32m5\u001b[39m         data = \u001b[43mpickle\u001b[49m\u001b[43m.\u001b[49m\u001b[43mload\u001b[49m\u001b[43m(\u001b[49m\u001b[43mf\u001b[49m\u001b[43m,\u001b[49m\u001b[43m \u001b[49m\u001b[43mprotocol\u001b[49m\u001b[43m=\u001b[49m\u001b[32;43m2\u001b[39;49m\u001b[43m)\u001b[49m  \u001b[38;5;66;03m# Исправляет проблему с Python 2 → 3\u001b[39;00m\n\u001b[32m      6\u001b[39m     \u001b[38;5;28mprint\u001b[39m(\u001b[33m\"\u001b[39m\u001b[33mТип данных:\u001b[39m\u001b[33m\"\u001b[39m, \u001b[38;5;28mtype\u001b[39m(data))\n\u001b[32m      7\u001b[39m     \u001b[38;5;28mprint\u001b[39m(\u001b[33m\"\u001b[39m\u001b[33mСодержимое:\u001b[39m\u001b[33m\"\u001b[39m, data)\n",
      "\u001b[31mTypeError\u001b[39m: 'protocol' is an invalid keyword argument for load()"
     ]
    }
   ],
   "source": [
    "import pickle\n",
    "\n",
    "def inspect_pickle(file_path):\n",
    "    with open(file_path, 'rb') as f:\n",
    "        data = pickle.load(f, protocol=2)  # Исправляет проблему с Python 2 → 3\n",
    "    print(\"Тип данных:\", type(data))\n",
    "    print(\"Содержимое:\", data)\n",
    "    return data\n",
    "\n",
    "data = inspect_pickle(\"DeepTopologyClassification/Data/FF.pkl\")"
   ]
  },
  {
   "cell_type": "code",
   "execution_count": 42,
   "metadata": {},
   "outputs": [
    {
     "name": "stdout",
     "output_type": "stream",
     "text": [
      "Заголовок файла: b\"(lp0\\r\\nS'FF'\\r\\np1\\r\\naS'FF-0.graph'\\r\\np2\\r\\na(lp3\\r\\ncnumpy.core.multiarray\\r\\nscalar\\r\\np4\\r\\n(cnumpy\\r\\ndtype\\r\\np5\\r\\n\"\n",
      "Неизвестный формат pickle\n"
     ]
    }
   ],
   "source": [
    "with open(\"DeepTopologyClassification/Data/FF.pkl\", 'rb') as f:\n",
    "    header = f.read(100)  # Читаем первые 100 байт\n",
    "    print(\"Заголовок файла:\", header)\n",
    "\n",
    "    # Попытка определить версию протокола\n",
    "    if header.startswith(b'\\x80\\x02'):\n",
    "        print(\"Это Python 2 pickle\")\n",
    "    elif header.startswith(b'\\x80\\x03'):\n",
    "        print(\"Это Python 3 pickle\")\n",
    "    else:\n",
    "        print(\"Неизвестный формат pickle\")"
   ]
  },
  {
   "cell_type": "code",
   "execution_count": 56,
   "metadata": {},
   "outputs": [
    {
     "name": "stdout",
     "output_type": "stream",
     "text": [
      "['SW', 'SW-1.graph', [np.float64(10.0), np.float64(9.99998), np.float64(0.7810377709177573), 0.11198814395096568, 1.3090543577421752, np.float64(0.6100260998611777), masked_array(data=14,\n",
      "             mask=False,\n",
      "       fill_value=999999), masked_array(data=5,\n",
      "             mask=False,\n",
      "       fill_value=999999), np.float64(0.5555555555555556), np.float64(0.550194536296691), np.float64(0.09477261366786786), -0.637672844530839, -0.1492147604613714, np.float64(0.008981938120820142), masked_array(data=1.0,\n",
      "             mask=False,\n",
      "       fill_value=1e+20), masked_array(data=0.09523809523809523,\n",
      "             mask=False,\n",
      "       fill_value=1e+20), np.float64(10.090909090909092), np.float64(10.061376097846871), np.float64(0.24802767415450228), 0.09024904604393283, 0.14765220439088367, np.float64(0.06151834232991525), masked_array(data=11.222222222222221,\n",
      "             mask=False,\n",
      "       fill_value=1e+20), masked_array(data=9.0,\n",
      "             mask=False,\n",
      "       fill_value=1e+20), np.float64(0.548989898989899), np.float64(0.5470956109451955), np.float64(0.041761808168657724), -0.26880949572921514, -0.050341856027327214, np.float64(0.0017440660621763884), masked_array(data=0.6722222222222224,\n",
      "             mask=False,\n",
      "       fill_value=1e+20), masked_array(data=0.36044733044733046,\n",
      "             mask=False,\n",
      "       fill_value=1e+20), np.float64(9.997966249044619e-06), np.float64(1.0000000000000025e-05), np.float64(6.50086487280515e-07), 0.11172686301104624, 1.277529661962892, np.float64(4.2261666711139036e-13), masked_array(data=1.3575446518847816e-05,\n",
      "             mask=False,\n",
      "       fill_value=1e+20), masked_array(data=5.853677832303315e-06,\n",
      "             mask=False,\n",
      "       fill_value=1e+20), np.float64(0.0029733133517763307), np.float64(0.003077668880054904), np.float64(0.0007266046137630407), 1.045190576319908, 2.1216385743107997, np.float64(5.279595443371809e-07), masked_array(data=0.008405203484305039,\n",
      "             mask=False,\n",
      "       fill_value=1e+20), masked_array(data=0.0010560067298684215,\n",
      "             mask=False,\n",
      "       fill_value=1e+20), 499999, 100000, np.uint64(14), 0.5436097086358582, 1, np.float64(820938.0000000001)]]\n"
     ]
    }
   ],
   "source": [
    "import dill\n",
    "with open(\"DeepTopologyClassification/Data/SW_new.pkl\", 'rb') as f:\n",
    "    data = dill.load(f, encoding='latin1')\n",
    "    print(data)\n"
   ]
  },
  {
   "cell_type": "code",
   "execution_count": 58,
   "metadata": {},
   "outputs": [
    {
     "data": {
      "text/plain": [
       "[np.float64(10.0),\n",
       " np.float64(9.99998),\n",
       " np.float64(0.7810377709177573),\n",
       " 0.11198814395096568,\n",
       " 1.3090543577421752,\n",
       " np.float64(0.6100260998611777),\n",
       " masked_array(data=14,\n",
       "              mask=False,\n",
       "        fill_value=999999),\n",
       " masked_array(data=5,\n",
       "              mask=False,\n",
       "        fill_value=999999),\n",
       " np.float64(0.5555555555555556),\n",
       " np.float64(0.550194536296691),\n",
       " np.float64(0.09477261366786786),\n",
       " -0.637672844530839,\n",
       " -0.1492147604613714,\n",
       " np.float64(0.008981938120820142),\n",
       " masked_array(data=1.0,\n",
       "              mask=False,\n",
       "        fill_value=1e+20),\n",
       " masked_array(data=0.09523809523809523,\n",
       "              mask=False,\n",
       "        fill_value=1e+20),\n",
       " np.float64(10.090909090909092),\n",
       " np.float64(10.061376097846871),\n",
       " np.float64(0.24802767415450228),\n",
       " 0.09024904604393283,\n",
       " 0.14765220439088367,\n",
       " np.float64(0.06151834232991525),\n",
       " masked_array(data=11.222222222222221,\n",
       "              mask=False,\n",
       "        fill_value=1e+20),\n",
       " masked_array(data=9.0,\n",
       "              mask=False,\n",
       "        fill_value=1e+20),\n",
       " np.float64(0.548989898989899),\n",
       " np.float64(0.5470956109451955),\n",
       " np.float64(0.041761808168657724),\n",
       " -0.26880949572921514,\n",
       " -0.050341856027327214,\n",
       " np.float64(0.0017440660621763884),\n",
       " masked_array(data=0.6722222222222224,\n",
       "              mask=False,\n",
       "        fill_value=1e+20),\n",
       " masked_array(data=0.36044733044733046,\n",
       "              mask=False,\n",
       "        fill_value=1e+20),\n",
       " np.float64(9.997966249044619e-06),\n",
       " np.float64(1.0000000000000025e-05),\n",
       " np.float64(6.50086487280515e-07),\n",
       " 0.11172686301104624,\n",
       " 1.277529661962892,\n",
       " np.float64(4.2261666711139036e-13),\n",
       " masked_array(data=1.3575446518847816e-05,\n",
       "              mask=False,\n",
       "        fill_value=1e+20),\n",
       " masked_array(data=5.853677832303315e-06,\n",
       "              mask=False,\n",
       "        fill_value=1e+20),\n",
       " np.float64(0.0029733133517763307),\n",
       " np.float64(0.003077668880054904),\n",
       " np.float64(0.0007266046137630407),\n",
       " 1.045190576319908,\n",
       " 2.1216385743107997,\n",
       " np.float64(5.279595443371809e-07),\n",
       " masked_array(data=0.008405203484305039,\n",
       "              mask=False,\n",
       "        fill_value=1e+20),\n",
       " masked_array(data=0.0010560067298684215,\n",
       "              mask=False,\n",
       "        fill_value=1e+20),\n",
       " 499999,\n",
       " 100000,\n",
       " np.uint64(14),\n",
       " 0.5436097086358582,\n",
       " 1,\n",
       " np.float64(820938.0000000001)]"
      ]
     },
     "execution_count": 58,
     "metadata": {},
     "output_type": "execute_result"
    }
   ],
   "source": [
    "data[2]"
   ]
  },
  {
   "cell_type": "code",
   "execution_count": null,
   "metadata": {},
   "outputs": [],
   "source": []
  }
 ],
 "metadata": {
  "kernelspec": {
   "display_name": ".venv",
   "language": "python",
   "name": "python3"
  },
  "language_info": {
   "codemirror_mode": {
    "name": "ipython",
    "version": 3
   },
   "file_extension": ".py",
   "mimetype": "text/x-python",
   "name": "python",
   "nbconvert_exporter": "python",
   "pygments_lexer": "ipython3",
   "version": "3.12.9"
  }
 },
 "nbformat": 4,
 "nbformat_minor": 2
}
